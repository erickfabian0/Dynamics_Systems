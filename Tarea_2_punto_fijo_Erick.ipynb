{
 "cells": [
  {
   "attachments": {},
   "cell_type": "markdown",
   "metadata": {},
   "source": [
    "# Para la funcion cos(X)"
   ]
  },
  {
   "cell_type": "code",
   "execution_count": 2,
   "metadata": {},
   "outputs": [],
   "source": [
    "from scipy.optimize import fsolve\n",
    "import math\n",
    "import numpy as np"
   ]
  },
  {
   "cell_type": "code",
   "execution_count": 3,
   "metadata": {},
   "outputs": [],
   "source": [
    "def f(x):\n",
    "    return np.cos(x)\n"
   ]
  },
  {
   "cell_type": "code",
   "execution_count": 4,
   "metadata": {},
   "outputs": [
    {
     "name": "stdout",
     "output_type": "stream",
     "text": [
      "[0.73908513]\n"
     ]
    }
   ],
   "source": [
    "\n",
    "\n",
    "# Definir una función que representa la diferencia entre las dos funciones\n",
    "def diferencia(X):\n",
    "    return math.cos(X) - X\n",
    "\n",
    "# Encontrar la intersección utilizando fsolve\n",
    "punto_interseccion_cos = fsolve(diferencia, 0)  # Aproximación inicial: 0\n",
    "\n",
    "print(punto_interseccion_cos)  # Imprimir el valor del punto de intersección\n"
   ]
  },
  {
   "cell_type": "code",
   "execution_count": 5,
   "metadata": {},
   "outputs": [
    {
     "data": {
      "text/plain": [
       "-1.6736120291832148"
      ]
     },
     "execution_count": 5,
     "metadata": {},
     "output_type": "execute_result"
    }
   ],
   "source": [
    "#Calculamos la derivada de la funcion cos(X)\n",
    "def derivada(X):\n",
    "    return -math.sin(X) - 1\n",
    "\n",
    "derivada_cos=derivada(X=punto_interseccion_cos)\n",
    "derivada_cos"
   ]
  },
  {
   "cell_type": "code",
   "execution_count": 6,
   "metadata": {},
   "outputs": [
    {
     "name": "stdout",
     "output_type": "stream",
     "text": [
      "x es un punto critico\n",
      "x es atractor\n"
     ]
    }
   ],
   "source": [
    "def condicion(d,c):\n",
    "    if abs(d) != 1:\n",
    "        print('x es un punto critico')\n",
    "    else: \n",
    "        print('fijo pero no critico')\n",
    "    if abs(c)<1: \n",
    "        print('x es atractor')\n",
    "    elif abs(c)==1:\n",
    "       print('no se sabe')\n",
    "    else:\n",
    "        print('x es repulsor')\n",
    "    \n",
    "condition= condicion(d=derivada_cos,c=punto_interseccion_cos)"
   ]
  },
  {
   "attachments": {},
   "cell_type": "markdown",
   "metadata": {},
   "source": [
    "Ahora para la funcion sen(X)"
   ]
  },
  {
   "cell_type": "code",
   "execution_count": 7,
   "metadata": {},
   "outputs": [
    {
     "name": "stdout",
     "output_type": "stream",
     "text": [
      "[0.]\n",
      "fijo pero no critico\n",
      "x es atractor\n"
     ]
    }
   ],
   "source": [
    "def f(x):\n",
    "    return np.sin(x)\n",
    "\n",
    "# Definir una función que representa la diferencia entre las dos funciones\n",
    "def diferencia(X):\n",
    "    return math.sin(X) - X\n",
    "\n",
    "# Encontrar la intersección utilizando fsolve\n",
    "punto_interseccion_sin = fsolve(diferencia, 0)  # Aproximación inicial: 0\n",
    "\n",
    "print(punto_interseccion_sin) \n",
    "\n",
    "#Calculamos la derivada de la funcion sin(X)\n",
    "def derivada(X):\n",
    "    return math.cos(X)\n",
    "\n",
    "\n",
    "derivada_sen=derivada(X=punto_interseccion_sin)\n",
    "derivada_sen\n",
    "\n",
    "    \n",
    "condition= condicion(d=derivada_sen,c=punto_interseccion_sin)"
   ]
  },
  {
   "attachments": {},
   "cell_type": "markdown",
   "metadata": {},
   "source": [
    "Ahora para la funcion e(x)= 1/e*e"
   ]
  },
  {
   "cell_type": "code",
   "execution_count": 9,
   "metadata": {},
   "outputs": [
    {
     "name": "stdout",
     "output_type": "stream",
     "text": [
      "[1.]\n",
      "fijo pero no critico\n",
      "x es repulsor\n"
     ]
    }
   ],
   "source": [
    "\n",
    "euler = math.e\n",
    "def f(x):\n",
    "    return (1 / euler) * euler**x\n",
    "\n",
    "def diferencia(x):\n",
    "    return f(x) - x\n",
    "\n",
    "punto_interseccion_e = fsolve(diferencia, 0)\n",
    "\n",
    "print(punto_interseccion_e)\n",
    "\n",
    "def derivada(x):\n",
    "    return 1\n",
    "\n",
    "derivada_e = derivada(punto_interseccion_e)\n",
    "\n",
    "condition = condicion(d=derivada_e, c=punto_interseccion_e)\n"
   ]
  },
  {
   "attachments": {},
   "cell_type": "markdown",
   "metadata": {},
   "source": [
    "#Ahora para la funcion: arcotang(x)"
   ]
  },
  {
   "cell_type": "code",
   "execution_count": 10,
   "metadata": {},
   "outputs": [
    {
     "name": "stdout",
     "output_type": "stream",
     "text": [
      "[0.]\n",
      "fijo pero no critico\n",
      "x es atractor\n",
      "no hay interseccion\n"
     ]
    }
   ],
   "source": [
    "\n",
    "def f(x):\n",
    "    return math.atan(x)\n",
    "\n",
    "def diferencia(x):\n",
    "    return f(x) - x\n",
    "\n",
    "punto_interseccion_arctan = fsolve(diferencia, 0)\n",
    "\n",
    "print(punto_interseccion_arctan)\n",
    "\n",
    "def derivada(x):\n",
    "    return 1 / (1 + x**2)\n",
    "\n",
    "derivada_arctan = derivada(punto_interseccion_arctan)\n",
    "\n",
    "\n",
    "condition = condicion(d=derivada_arctan, c=punto_interseccion_arctan)\n",
    "\n",
    "print('no hay interseccion')\n"
   ]
  }
 ],
 "metadata": {
  "kernelspec": {
   "display_name": "Python 3",
   "language": "python",
   "name": "python3"
  },
  "language_info": {
   "codemirror_mode": {
    "name": "ipython",
    "version": 3
   },
   "file_extension": ".py",
   "mimetype": "text/x-python",
   "name": "python",
   "nbconvert_exporter": "python",
   "pygments_lexer": "ipython3",
   "version": "3.9.12"
  },
  "orig_nbformat": 4
 },
 "nbformat": 4,
 "nbformat_minor": 2
}
